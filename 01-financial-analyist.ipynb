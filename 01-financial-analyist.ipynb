{
 "cells": [
  {
   "cell_type": "markdown",
   "metadata": {},
   "source": [
    "# Step 09 - Challenge Project 1"
   ]
  },
  {
   "cell_type": "markdown",
   "metadata": {},
   "source": [
    "# Al Financial Analyst"
   ]
  },
  {
   "cell_type": "code",
   "execution_count": 97,
   "metadata": {},
   "outputs": [],
   "source": [
    "import os\n",
    "import json\n",
    "import requests\n",
    "from openai import OpenAI\n",
    "import time\n",
    "from dotenv import load_dotenv, find_dotenv"
   ]
  },
  {
   "cell_type": "code",
   "execution_count": 98,
   "metadata": {},
   "outputs": [],
   "source": [
    "_ : bool = load_dotenv(find_dotenv()) # read local .env file\n",
    "\n",
    "FMP_API_KEY: str = os.environ.get(\"FMP_API_KEY\")\n",
    "\n",
    "client : OpenAI = OpenAI()\n",
    "\n",
    "# display(FMP_API_KEY)\n",
    "# display(client.api_key)"
   ]
  },
  {
   "cell_type": "markdown",
   "metadata": {},
   "source": [
    "## Step 1: Defining Financial Functions\n",
    "\n",
    "Endpoints we are using:\n",
    "\n",
    "- Financial statements (income, balance sheet, & cash flow)\n",
    "- Financial ratios\n",
    "- Key metrics\n",
    "- Financial growth\n",
    "\n",
    "Note: to create an end-to-end financial analyst we'd want to extend this function calling capability to much more financial data, but this will get us started for basic analysis."
   ]
  },
  {
   "cell_type": "code",
   "execution_count": 99,
   "metadata": {},
   "outputs": [],
   "source": [
    "# Define financial statement functions\n",
    "def get_income_statement(ticker, period, limit):\n",
    "    url = f\"https://financialmodelingprep.com/api/v3/income-statement/{ticker}?period=annual&apikey={FMP_API_KEY}\"\n",
    "    response = requests.get(url)\n",
    "    return json.dumps(response.json())\n",
    "\n",
    "def get_balance_sheet(ticker, period, limit):\n",
    "    # url = f\"https://financialmodelingprep.com/api/v3/balance-sheet-statement/{ticker}?period={period}&limit={limit}&apikey={FMP_API_KEY}\"\n",
    "    url = f\"https://financialmodelingprep.com/api/v3/balance-sheet-statement/{ticker}?period=annual&apikey={FMP_API_KEY}\"\n",
    "    response = requests.get(url)\n",
    "    return json.dumps(response.json())\n",
    "\n",
    "def get_cash_flow_statement(ticker, period, limit):\n",
    "    # url = f\"https://financialmodelingprep.com/api/v3/cash-flow-statement/{ticker}?period={period}&limit={limit}&apikey={FMP_API_KEY}\"\n",
    "    url = f\"https://financialmodelingprep.com/api/v3/cash-flow-statement/{ticker}?period=annual&apikey=ETZqiw9M5ObXGLxKylHzoI5Ec70NQFue\"\n",
    "    response = requests.get(url)\n",
    "    return json.dumps(response.json())\n",
    "\n",
    "def get_key_metrics(ticker, period, limit):\n",
    "    url = f\"https://financialmodelingprep.com/api/v3/key-metrics/{ticker}?period=annual&apikey={FMP_API_KEY}\"\n",
    "    response = requests.get(url)\n",
    "    return json.dumps(response.json())\n",
    "\n",
    "def get_financial_ratios(ticker, period, limit):\n",
    "    url = f\"https://financialmodelingprep.com/api/v3/ratios-ttm/{ticker}?period=annual&apikey={FMP_API_KEY}\"\n",
    "    response = requests.get(url)\n",
    "    return json.dumps(response.json())\n",
    "\n",
    "def get_financial_growth(ticker, period, limit):\n",
    "    url = f\"https://financialmodelingprep.com/api/v3/financial-growth/{ticker}?period=annual&apikey={FMP_API_KEY}\"\n",
    "    response = requests.get(url)\n",
    "    return json.dumps(response.json())"
   ]
  },
  {
   "cell_type": "markdown",
   "metadata": {},
   "source": [
    "## Step 2: Map available functions\n",
    "\n",
    "\n"
   ]
  },
  {
   "cell_type": "code",
   "execution_count": 100,
   "metadata": {},
   "outputs": [],
   "source": [
    "# Map available functions\n",
    "available_functions = {\n",
    "    \"get_income_statement\": get_income_statement,\n",
    "    \"get_balance_sheet\": get_balance_sheet,\n",
    "    \"get_cash_flow_statement\": get_cash_flow_statement,\n",
    "    \"get_key_metrics\": get_key_metrics,\n",
    "    \"get_financial_ratios\": get_financial_ratios,\n",
    "    \"get_financial_growth\": get_financial_growth\n",
    "}"
   ]
  },
  {
   "cell_type": "markdown",
   "metadata": {},
   "source": [
    "## Step 3: Creating the Assistant"
   ]
  },
  {
   "cell_type": "code",
   "execution_count": 102,
   "metadata": {},
   "outputs": [],
   "source": [
    "financial_tools = [\n",
    "    {\"type\": \"code_interpreter\"},\n",
    "    {\n",
    "        \"type\": \"function\",\n",
    "        \"function\": {\n",
    "            \"name\": \"get_income_statement\",\n",
    "            \"parameters\": {\n",
    "                \"type\": \"object\",\n",
    "                \"properties\": {\n",
    "                    \"ticker\": {\"type\": \"string\"},\n",
    "                    \"period\": {\"type\": \"string\"},\n",
    "                    \"limit\": {\"type\": \"integer\"}\n",
    "                },\n",
    "                \"required\": [\"ticker\"],\n",
    "            }\n",
    "        }\n",
    "    },\n",
    "    {\n",
    "        \"type\": \"function\",\n",
    "        \"function\": {\n",
    "            \"name\": \"get_balance_sheet\",\n",
    "            \"parameters\": {\n",
    "                \"type\": \"object\",\n",
    "                \"properties\": {\n",
    "                    \"ticker\": {\"type\": \"string\"},\n",
    "                    \"period\": {\"type\": \"string\"},\n",
    "                    \"limit\": {\"type\": \"integer\"}\n",
    "                },\n",
    "                \"required\": [\"ticker\"],\n",
    "            }\n",
    "        }\n",
    "    },\n",
    "    {\n",
    "        \"type\": \"function\",\n",
    "        \"function\": {\n",
    "            \"name\": \"get_cash_flow_statement\",\n",
    "            \"parameters\": {\n",
    "                \"type\": \"object\",\n",
    "                \"properties\": {\n",
    "                    \"ticker\": {\"type\": \"string\"},\n",
    "                    \"period\": {\"type\": \"string\"},\n",
    "                    \"limit\": {\"type\": \"integer\"}\n",
    "                },\n",
    "                \"required\": [\"ticker\"],\n",
    "            }\n",
    "        }\n",
    "    },\n",
    "    {\n",
    "        \"type\": \"function\",\n",
    "        \"function\": {\n",
    "            \"name\": \"get_key_metrics\",\n",
    "            \"parameters\": {\n",
    "                \"type\": \"object\",\n",
    "                \"properties\": {\n",
    "                    \"ticker\": {\"type\": \"string\"},\n",
    "                    \"period\": {\"type\": \"string\"},\n",
    "                    \"limit\": {\"type\": \"integer\"}\n",
    "                },\n",
    "                \"required\": [\"ticker\"],\n",
    "            }\n",
    "        }\n",
    "    },\n",
    "    {\n",
    "        \"type\": \"function\",\n",
    "        \"function\": {\n",
    "            \"name\": \"get_financial_ratios\",\n",
    "            \"parameters\": {\n",
    "                \"type\": \"object\",\n",
    "                \"properties\": {\n",
    "                    \"ticker\": {\"type\": \"string\"},\n",
    "                    \"period\": {\"type\": \"string\"},\n",
    "                    \"limit\": {\"type\": \"integer\"}\n",
    "                },\n",
    "                \"required\": [\"ticker\"],\n",
    "            }\n",
    "        }\n",
    "    },\n",
    "    {\n",
    "        \"type\": \"function\",\n",
    "        \"function\": {\n",
    "            \"name\": \"get_financial_growth\",\n",
    "            \"parameters\": {\n",
    "                \"type\": \"object\",\n",
    "                \"properties\": {\n",
    "                    \"ticker\": {\"type\": \"string\"},\n",
    "                    \"period\": {\"type\": \"string\"},\n",
    "                    \"limit\": {\"type\": \"integer\"}\n",
    "                },\n",
    "                \"required\": [\"ticker\"],\n",
    "            }\n",
    "        }\n",
    "    }\n",
    "]"
   ]
  },
  {
   "cell_type": "markdown",
   "metadata": {},
   "source": [
    "## Step 4: Initiate a New Thread"
   ]
  },
  {
   "cell_type": "code",
   "execution_count": 103,
   "metadata": {},
   "outputs": [],
   "source": [
    "from openai.types.beta.thread import Thread\n",
    "\n",
    "thread: Thread = client.beta.threads.create()"
   ]
  },
  {
   "cell_type": "markdown",
   "metadata": {},
   "source": [
    "## Step 5: Adding Messages to the Thread\n",
    "\n",
    "## Step 6: Running and Monitoring the Assistant"
   ]
  },
  {
   "cell_type": "code",
   "execution_count": 104,
   "metadata": {},
   "outputs": [],
   "source": [
    "import requests\n",
    "\n",
    "def download_and_save_image(image_file_id, image_save_path):\n",
    "\n",
    "    print(f\"Downloading image: {image_file_id}\")\n",
    "    print(f\"image_save_path: {image_save_path}\")\n",
    "    # Construct the URL to download the image\n",
    "    url = f\"https://api.openai.com/v1/files/{image_file_id}/content\"\n",
    "\n",
    "    # Send a GET request to the URL\n",
    "    response = requests.get(url)\n",
    "\n",
    "    print(f\"response: {response}\")\n",
    "\n",
    "    # Check if the request was successful\n",
    "    if response.status_code == 200:\n",
    "        # Open the file in write-binary mode and save the image\n",
    "        with open(image_save_path, 'wb') as file:\n",
    "            file.write(response.content)\n",
    "    else:\n",
    "        print(f\"Failed to download image: {response.status_code}\")\n"
   ]
  },
  {
   "cell_type": "markdown",
   "metadata": {},
   "source": [
    "#### 6.1 Start a Run"
   ]
  },
  {
   "cell_type": "code",
   "execution_count": 94,
   "metadata": {},
   "outputs": [],
   "source": [
    "from openai.types.beta.threads import Run\n",
    "# Define the main function\n",
    "def run_assistant(user_message: str):\n",
    "\n",
    "  # Step 3: Creating an assistant with specific instructions and tools\n",
    "  assistant: Assistant = client.beta.assistants.create(\n",
    "    instructions=\"Act as a financial analyst by accessing detailed financial data through the Financial Modeling Prep API. Your capabilities include analyzing key metrics, comprehensive financial statements, vital financial ratios, and tracking financial growth trends. \",\n",
    "    model=\"gpt-4-1106-preview\",\n",
    "    tools=financial_tools\n",
    "  )\n",
    "\n",
    "# Step 5: Adding a user message to the thread\n",
    "  client.beta.threads.messages.create(\n",
    "      thread_id=thread.id,\n",
    "      role=\"user\",\n",
    "      content=user_message\n",
    "  )\n",
    "\n",
    "  # Step 6: Running and Monitoring the Assistant\n",
    "\n",
    "  # 6.1 Start Running the assistant on the created thread\n",
    "  run: Run = client.beta.threads.runs.create(thread_id=thread.id, assistant_id=assistant.id)\n",
    "\n",
    "  # 6.2 Monitor and Manage the Run:\n",
    "  # - Retrieve Run Status: Regularly checks the current status of the Run.\n",
    "#   run: Run = client.beta.threads.runs.retrieve(thread_id=thread.id, run_id=run.id)\n",
    "#   #- Retrieve Run Steps\n",
    "#   run_steps: Run = client.beta.threads.runs.steps.list(thread_id=thread.id, run_id=run.id)\n",
    "#   # - Handle in_progress and queued Statuses: If the Run is still in progress or queued, wait for a short period before checking the status again.\n",
    "#   (time.sleep(5))\n",
    "\n",
    "  # Handle requires_action Status\n",
    "  # Loop until the run completes or requires action\n",
    "  while True:\n",
    "        run = client.beta.threads.runs.retrieve(thread_id=thread.id, run_id=run.id)\n",
    "\n",
    "        # Add run steps retrieval here\n",
    "        run_steps = client.beta.threads.runs.steps.list(thread_id=thread.id, run_id=run.id)\n",
    "        print(\"Run Steps:\", run_steps)\n",
    "        (time.sleep(5))\n",
    "\n",
    "        if run.status == \"requires_action\":\n",
    "            tool_calls = run.required_action.submit_tool_outputs.tool_calls\n",
    "            tool_outputs = []\n",
    "\n",
    "            for tool_call in tool_calls:\n",
    "                function_name = tool_call.function.name\n",
    "                function_args = json.loads(tool_call.function.arguments)\n",
    "                print('function_name', function_name)\n",
    "                print('function_name', function_args)\n",
    "\n",
    "                if function_name in available_functions:\n",
    "                    function_to_call = available_functions[function_name]\n",
    "                    output = function_to_call(**function_args)\n",
    "                    tool_outputs.append({\n",
    "                        \"tool_call_id\": tool_call.id,\n",
    "                        \"output\": output,\n",
    "                    })\n",
    "\n",
    "            # Submit tool outputs and update the run\n",
    "            client.beta.threads.runs.submit_tool_outputs(\n",
    "                thread_id=thread.id,\n",
    "                run_id=run.id,\n",
    "                tool_outputs=tool_outputs\n",
    "            )\n",
    "\n",
    "        elif run.status == \"completed\":\n",
    "            # List the messages to get the response\n",
    "            messages = client.beta.threads.messages.list(thread_id=thread.id)\n",
    "            for message in messages.data:\n",
    "                role_label = \"User\" if message.role == \"user\" else \"Assistant\"\n",
    "                # Check the type of message content and handle accordingly\n",
    "                for content in message.content:\n",
    "                    if content.type == \"text\":\n",
    "                        message_content = content.text.value\n",
    "                        print(f\"{role_label}: {message_content}\\n\")\n",
    "                    elif content.type == \"image_file\":\n",
    "                        # Handle image file content, e.g., print the file ID or download the image\n",
    "                        image_file_id = content.image_file.file_id\n",
    "                        # Define a path to save the image\n",
    "                        image_save_path = f\"../data/image_{image_file_id}.png\"\n",
    "                        # Download and save the image\n",
    "                        download_and_save_image(image_file_id, image_save_path)\n",
    "                \n",
    "                return content\n",
    "            break  # Exit the loop after processing the completed run\n",
    "\n",
    "        elif run.status == \"failed\":\n",
    "            print(\"Run failed.\")\n",
    "            break\n",
    "\n",
    "        elif run.status in [\"in_progress\", \"queued\"]:\n",
    "            print(f\"Run is {run.status}. Waiting...\")\n",
    "            time.sleep(5)  # Wait for 5 seconds before checking again\n",
    "\n",
    "        else:\n",
    "            print(f\"Unexpected status: {run.status}\")\n",
    "            break\n"
   ]
  },
  {
   "cell_type": "code",
   "execution_count": 82,
   "metadata": {},
   "outputs": [
    {
     "name": "stdout",
     "output_type": "stream",
     "text": [
      "Run Steps: SyncCursorPage[RunStep](data=[], object='list', first_id=None, last_id=None, has_more=False)\n",
      "Run is in_progress. Waiting...\n",
      "Run Steps: SyncCursorPage[RunStep](data=[RunStep(id='step_L7gY9r3ta0zKSBjx5pDrlUXj', assistant_id='asst_a7b3cAGCkbkeJT0kDOsmAwAG', cancelled_at=None, completed_at=None, created_at=1701255912, expired_at=None, failed_at=None, last_error=None, metadata=None, object='thread.run.step', run_id='run_zevz4Te6NCWMY01husq0tBWC', status='in_progress', step_details=MessageCreationStepDetails(message_creation=MessageCreation(message_id='msg_bDz5IEm1jUdnVXZVnRCRjqQU'), type='message_creation'), thread_id='thread_bWgXtv8If5VgpX1SnviOCecx', type='message_creation', expires_at=1701256507)], object='list', first_id='step_L7gY9r3ta0zKSBjx5pDrlUXj', last_id='step_L7gY9r3ta0zKSBjx5pDrlUXj', has_more=False)\n",
      "Run is in_progress. Waiting...\n",
      "Run Steps: SyncCursorPage[RunStep](data=[RunStep(id='step_L7gY9r3ta0zKSBjx5pDrlUXj', assistant_id='asst_a7b3cAGCkbkeJT0kDOsmAwAG', cancelled_at=None, completed_at=None, created_at=1701255912, expired_at=None, failed_at=None, last_error=None, metadata=None, object='thread.run.step', run_id='run_zevz4Te6NCWMY01husq0tBWC', status='in_progress', step_details=MessageCreationStepDetails(message_creation=MessageCreation(message_id='msg_bDz5IEm1jUdnVXZVnRCRjqQU'), type='message_creation'), thread_id='thread_bWgXtv8If5VgpX1SnviOCecx', type='message_creation', expires_at=1701256507)], object='list', first_id='step_L7gY9r3ta0zKSBjx5pDrlUXj', last_id='step_L7gY9r3ta0zKSBjx5pDrlUXj', has_more=False)\n",
      "Run is in_progress. Waiting...\n",
      "Run Steps: SyncCursorPage[RunStep](data=[RunStep(id='step_L7gY9r3ta0zKSBjx5pDrlUXj', assistant_id='asst_a7b3cAGCkbkeJT0kDOsmAwAG', cancelled_at=None, completed_at=None, created_at=1701255912, expired_at=None, failed_at=None, last_error=None, metadata=None, object='thread.run.step', run_id='run_zevz4Te6NCWMY01husq0tBWC', status='in_progress', step_details=MessageCreationStepDetails(message_creation=MessageCreation(message_id='msg_bDz5IEm1jUdnVXZVnRCRjqQU'), type='message_creation'), thread_id='thread_bWgXtv8If5VgpX1SnviOCecx', type='message_creation', expires_at=1701256507)], object='list', first_id='step_L7gY9r3ta0zKSBjx5pDrlUXj', last_id='step_L7gY9r3ta0zKSBjx5pDrlUXj', has_more=False)\n",
      "Run is in_progress. Waiting...\n",
      "Run Steps: SyncCursorPage[RunStep](data=[RunStep(id='step_L7gY9r3ta0zKSBjx5pDrlUXj', assistant_id='asst_a7b3cAGCkbkeJT0kDOsmAwAG', cancelled_at=None, completed_at=None, created_at=1701255912, expired_at=None, failed_at=None, last_error=None, metadata=None, object='thread.run.step', run_id='run_zevz4Te6NCWMY01husq0tBWC', status='in_progress', step_details=MessageCreationStepDetails(message_creation=MessageCreation(message_id='msg_bDz5IEm1jUdnVXZVnRCRjqQU'), type='message_creation'), thread_id='thread_bWgXtv8If5VgpX1SnviOCecx', type='message_creation', expires_at=1701256507)], object='list', first_id='step_L7gY9r3ta0zKSBjx5pDrlUXj', last_id='step_L7gY9r3ta0zKSBjx5pDrlUXj', has_more=False)\n",
      "Run is in_progress. Waiting...\n",
      "Run Steps: SyncCursorPage[RunStep](data=[RunStep(id='step_L7gY9r3ta0zKSBjx5pDrlUXj', assistant_id='asst_a7b3cAGCkbkeJT0kDOsmAwAG', cancelled_at=None, completed_at=None, created_at=1701255912, expired_at=None, failed_at=None, last_error=None, metadata=None, object='thread.run.step', run_id='run_zevz4Te6NCWMY01husq0tBWC', status='in_progress', step_details=MessageCreationStepDetails(message_creation=MessageCreation(message_id='msg_bDz5IEm1jUdnVXZVnRCRjqQU'), type='message_creation'), thread_id='thread_bWgXtv8If5VgpX1SnviOCecx', type='message_creation', expires_at=1701256507)], object='list', first_id='step_L7gY9r3ta0zKSBjx5pDrlUXj', last_id='step_L7gY9r3ta0zKSBjx5pDrlUXj', has_more=False)\n",
      "Run is in_progress. Waiting...\n",
      "Run Steps: SyncCursorPage[RunStep](data=[RunStep(id='step_L7gY9r3ta0zKSBjx5pDrlUXj', assistant_id='asst_a7b3cAGCkbkeJT0kDOsmAwAG', cancelled_at=None, completed_at=None, created_at=1701255912, expired_at=None, failed_at=None, last_error=None, metadata=None, object='thread.run.step', run_id='run_zevz4Te6NCWMY01husq0tBWC', status='in_progress', step_details=MessageCreationStepDetails(message_creation=MessageCreation(message_id='msg_bDz5IEm1jUdnVXZVnRCRjqQU'), type='message_creation'), thread_id='thread_bWgXtv8If5VgpX1SnviOCecx', type='message_creation', expires_at=1701256507)], object='list', first_id='step_L7gY9r3ta0zKSBjx5pDrlUXj', last_id='step_L7gY9r3ta0zKSBjx5pDrlUXj', has_more=False)\n",
      "Run is in_progress. Waiting...\n",
      "Run Steps: SyncCursorPage[RunStep](data=[RunStep(id='step_L7gY9r3ta0zKSBjx5pDrlUXj', assistant_id='asst_a7b3cAGCkbkeJT0kDOsmAwAG', cancelled_at=None, completed_at=1701255948, created_at=1701255912, expired_at=None, failed_at=None, last_error=None, metadata=None, object='thread.run.step', run_id='run_zevz4Te6NCWMY01husq0tBWC', status='completed', step_details=MessageCreationStepDetails(message_creation=MessageCreation(message_id='msg_bDz5IEm1jUdnVXZVnRCRjqQU'), type='message_creation'), thread_id='thread_bWgXtv8If5VgpX1SnviOCecx', type='message_creation', expires_at=None)], object='list', first_id='step_L7gY9r3ta0zKSBjx5pDrlUXj', last_id='step_L7gY9r3ta0zKSBjx5pDrlUXj', has_more=False)\n",
      "Assistant: To provide a comprehensive comparison of Microsoft and Apple's financial health over the last four years, based on their balance sheets and key financial ratios, let's start by synthesizing the balance sheet data and then delve into the financial ratios for each company.\n",
      "\n",
      "**Microsoft Corp (MSFT):**\n",
      "\n",
      "**Balance Sheet Highlights (2020-2023):**\n",
      "- Total Assets: Increased from $301B to $412B.\n",
      "- Total Liabilities: Grew from $183B to $206B.\n",
      "- Total Stockholders' Equity: Nearly doubled from $118B to $206B.\n",
      "\n",
      "**Key Financial Ratios:**\n",
      "As of the latest trailing twelve months (TTM) data available in 2023:\n",
      "- Current Ratio: 1.66 (A measure of liquidity)\n",
      "- Debt to Equity Ratio: 0.39 (A measure of financial leverage)\n",
      "- Net Profit Margin: 35.31% (Profitability in relation to revenue)\n",
      "- Return on Equity (ROE): 38.32% (Profitability relative to shareholder's equity)\n",
      "\n",
      "**Apple Inc (AAPL):**\n",
      "\n",
      "**Balance Sheet Highlights (2020-2023):**\n",
      "- Total Assets: Increased from $324B to $353B.\n",
      "- Total Liabilities: Rose from $259B to $290B.\n",
      "- Total Stockholders' Equity: Slightly decreased from $65B to $62B.\n",
      "\n",
      "Unfortunately, the key financial ratios for Apple as of the latest TTM data were not provided in the financial data retrieved, which limits the comparison on that front.\n",
      "\n",
      "**Comparison Analysis:**\n",
      "\n",
      "Balance Sheet Analysis:\n",
      "- Both Microsoft and Apple have displayed a notable increase in total assets over this period, indicating growth.\n",
      "- Microsoft has shown an impressive enhancement in shareholders' equity as well, signifying strong internal financing and asset accumulation capabilities.\n",
      "- Apple, despite the minor dip in shareholders' equity, maintains a formidable asset base, suggestive of its substantial market presence and continuing operations.\n",
      "\n",
      "Financial Ratios Analysis:\n",
      "- Microsoft exhibits strong liquidity, manageable debt levels, high profitability, and efficient use of equity to generate profits.\n",
      "- In the absence of Apple's financial ratios, a direct comparison is not feasible for these metrics. However, historical data typically has shown Apple to maintain robust financial ratios, with high liquidity and profitability.\n",
      "\n",
      "In conclusion, both Microsoft and Apple are financially robust, with Microsoft showing particularly striking growth in equity and maintaining healthy financial ratios. Apple's minor decrease in equity could hint at aggressive capital return policies rather than operational weakness. Without the full set of financial ratios for Apple, an exhaustive comparison can't be made, but both tech giants appear to be in a strong financial position overall.\n",
      "\n",
      "Assistant: To provide a comprehensive comparison of Microsoft and Apple's financial health over the last four years, based on their balance sheets and key financial ratios, let's start by synthesizing the balance sheet data and then delve into the financial ratios for each company.\n",
      "\n",
      "**Microsoft Corp (MSFT):**\n",
      "\n",
      "**Balance Sheet Highlights (2020-2023):**\n",
      "- Total Assets: Increased from $301B to $412B.\n",
      "- Total Liabilities: Grew from $183B to $206B.\n",
      "- Total Stockholders' Equity: Nearly doubled from $118B to $206B.\n",
      "\n",
      "**Key Financial Ratios:**\n",
      "As of the latest trailing twelve months (TTM) data available in 2023:\n",
      "- Current Ratio: 1.66 (A measure of liquidity)\n",
      "- Debt to Equity Ratio: 0.39 (A measure of financial leverage)\n",
      "- Net Profit Margin: 35.31% (Profitability in relation to revenue)\n",
      "- Return on Equity (ROE): 38.32% (Profitability relative to shareholder's equity)\n",
      "\n",
      "**Apple Inc (AAPL):**\n",
      "\n",
      "**Balance Sheet Highlights (2020-2023):**\n",
      "- Total Assets: Increased from $324B to $353B.\n",
      "- Total Liabilities: Rose from $259B to $290B.\n",
      "- Total Stockholders' Equity: Slightly decreased from $65B to $62B.\n",
      "\n",
      "Unfortunately, the key financial ratios for Apple as of the latest TTM data were not provided in the financial data retrieved, which limits the comparison on that front.\n",
      "\n",
      "**Comparison Analysis:**\n",
      "\n",
      "Balance Sheet Analysis:\n",
      "- Both Microsoft and Apple have displayed a notable increase in total assets over this period, indicating growth.\n",
      "- Microsoft has shown an impressive enhancement in shareholders' equity as well, signifying strong internal financing and asset accumulation capabilities.\n",
      "- Apple, despite the minor dip in shareholders' equity, maintains a formidable asset base, suggestive of its substantial market presence and continuing operations.\n",
      "\n",
      "Financial Ratios Analysis:\n",
      "- Microsoft exhibits strong liquidity, manageable debt levels, high profitability, and efficient use of equity to generate profits.\n",
      "- In the absence of Apple's financial ratios, a direct comparison is not feasible for these metrics. However, historical data typically has shown Apple to maintain robust financial ratios, with high liquidity and profitability.\n",
      "\n",
      "In conclusion, both Microsoft and Apple are financially robust, with Microsoft showing particularly striking growth in equity and maintaining healthy financial ratios. Apple's minor decrease in equity could hint at aggressive capital return policies rather than operational weakness. Without the full set of financial ratios for Apple, an exhaustive comparison can't be made, but both tech giants appear to be in a strong financial position overall.\n",
      "\n",
      "ThreadMessage(id='msg_bDz5IEm1jUdnVXZVnRCRjqQU', assistant_id='asst_a7b3cAGCkbkeJT0kDOsmAwAG', content=[MessageContentText(text=Text(annotations=[], value=\"To provide a comprehensive comparison of Microsoft and Apple's financial health over the last four years, based on their balance sheets and key financial ratios, let's start by synthesizing the balance sheet data and then delve into the financial ratios for each company.\\n\\n**Microsoft Corp (MSFT):**\\n\\n**Balance Sheet Highlights (2020-2023):**\\n- Total Assets: Increased from $301B to $412B.\\n- Total Liabilities: Grew from $183B to $206B.\\n- Total Stockholders' Equity: Nearly doubled from $118B to $206B.\\n\\n**Key Financial Ratios:**\\nAs of the latest trailing twelve months (TTM) data available in 2023:\\n- Current Ratio: 1.66 (A measure of liquidity)\\n- Debt to Equity Ratio: 0.39 (A measure of financial leverage)\\n- Net Profit Margin: 35.31% (Profitability in relation to revenue)\\n- Return on Equity (ROE): 38.32% (Profitability relative to shareholder's equity)\\n\\n**Apple Inc (AAPL):**\\n\\n**Balance Sheet Highlights (2020-2023):**\\n- Total Assets: Increased from $324B to $353B.\\n- Total Liabilities: Rose from $259B to $290B.\\n- Total Stockholders' Equity: Slightly decreased from $65B to $62B.\\n\\nUnfortunately, the key financial ratios for Apple as of the latest TTM data were not provided in the financial data retrieved, which limits the comparison on that front.\\n\\n**Comparison Analysis:**\\n\\nBalance Sheet Analysis:\\n- Both Microsoft and Apple have displayed a notable increase in total assets over this period, indicating growth.\\n- Microsoft has shown an impressive enhancement in shareholders' equity as well, signifying strong internal financing and asset accumulation capabilities.\\n- Apple, despite the minor dip in shareholders' equity, maintains a formidable asset base, suggestive of its substantial market presence and continuing operations.\\n\\nFinancial Ratios Analysis:\\n- Microsoft exhibits strong liquidity, manageable debt levels, high profitability, and efficient use of equity to generate profits.\\n- In the absence of Apple's financial ratios, a direct comparison is not feasible for these metrics. However, historical data typically has shown Apple to maintain robust financial ratios, with high liquidity and profitability.\\n\\nIn conclusion, both Microsoft and Apple are financially robust, with Microsoft showing particularly striking growth in equity and maintaining healthy financial ratios. Apple's minor decrease in equity could hint at aggressive capital return policies rather than operational weakness. Without the full set of financial ratios for Apple, an exhaustive comparison can't be made, but both tech giants appear to be in a strong financial position overall.\"), type='text')], created_at=1701255912, file_ids=[], metadata={}, object='thread.message', role='assistant', run_id='run_zevz4Te6NCWMY01husq0tBWC', thread_id='thread_bWgXtv8If5VgpX1SnviOCecx')\n",
      "\n"
     ]
    }
   ],
   "source": [
    "response = run_assistant(\"Can you compare the financial health of Microsoft and Apple over the last four years, focusing on their balance sheets and key financial ratios?\")"
   ]
  },
  {
   "cell_type": "code",
   "execution_count": 83,
   "metadata": {},
   "outputs": [],
   "source": [
    "import json\n",
    "\n",
    "def show_json(obj):\n",
    "    display(json.loads(obj.model_dump_json()))"
   ]
  },
  {
   "cell_type": "code",
   "execution_count": 85,
   "metadata": {},
   "outputs": [
    {
     "data": {
      "text/plain": [
       "\"To provide a comprehensive comparison of Microsoft and Apple's financial health over the last four years, based on their balance sheets and key financial ratios, let's start by synthesizing the balance sheet data and then delve into the financial ratios for each company.\\n\\n**Microsoft Corp (MSFT):**\\n\\n**Balance Sheet Highlights (2020-2023):**\\n- Total Assets: Increased from $301B to $412B.\\n- Total Liabilities: Grew from $183B to $206B.\\n- Total Stockholders' Equity: Nearly doubled from $118B to $206B.\\n\\n**Key Financial Ratios:**\\nAs of the latest trailing twelve months (TTM) data available in 2023:\\n- Current Ratio: 1.66 (A measure of liquidity)\\n- Debt to Equity Ratio: 0.39 (A measure of financial leverage)\\n- Net Profit Margin: 35.31% (Profitability in relation to revenue)\\n- Return on Equity (ROE): 38.32% (Profitability relative to shareholder's equity)\\n\\n**Apple Inc (AAPL):**\\n\\n**Balance Sheet Highlights (2020-2023):**\\n- Total Assets: Increased from $324B to $353B.\\n- Total Liabilities: Rose from $259B to $290B.\\n- Total Stockholders' Equity: Slightly decreased from $65B to $62B.\\n\\nUnfortunately, the key financial ratios for Apple as of the latest TTM data were not provided in the financial data retrieved, which limits the comparison on that front.\\n\\n**Comparison Analysis:**\\n\\nBalance Sheet Analysis:\\n- Both Microsoft and Apple have displayed a notable increase in total assets over this period, indicating growth.\\n- Microsoft has shown an impressive enhancement in shareholders' equity as well, signifying strong internal financing and asset accumulation capabilities.\\n- Apple, despite the minor dip in shareholders' equity, maintains a formidable asset base, suggestive of its substantial market presence and continuing operations.\\n\\nFinancial Ratios Analysis:\\n- Microsoft exhibits strong liquidity, manageable debt levels, high profitability, and efficient use of equity to generate profits.\\n- In the absence of Apple's financial ratios, a direct comparison is not feasible for these metrics. However, historical data typically has shown Apple to maintain robust financial ratios, with high liquidity and profitability.\\n\\nIn conclusion, both Microsoft and Apple are financially robust, with Microsoft showing particularly striking growth in equity and maintaining healthy financial ratios. Apple's minor decrease in equity could hint at aggressive capital return policies rather than operational weakness. Without the full set of financial ratios for Apple, an exhaustive comparison can't be made, but both tech giants appear to be in a strong financial position overall.\""
      ]
     },
     "execution_count": 85,
     "metadata": {},
     "output_type": "execute_result"
    }
   ],
   "source": [
    "response"
   ]
  },
  {
   "cell_type": "code",
   "execution_count": 105,
   "metadata": {},
   "outputs": [
    {
     "name": "stdout",
     "output_type": "stream",
     "text": [
      "Run Steps: SyncCursorPage[RunStep](data=[], object='list', first_id=None, last_id=None, has_more=False)\n",
      "Run is in_progress. Waiting...\n",
      "Run Steps: SyncCursorPage[RunStep](data=[], object='list', first_id=None, last_id=None, has_more=False)\n",
      "Run failed.\n"
     ]
    }
   ],
   "source": [
    "response2 = run_assistant(\"\"\"Evaluate Microsoft vs. Googles's revenue & profitability} growth over the past 4 quarters. Visualize the results with one or more charts.\"\"\")"
   ]
  },
  {
   "cell_type": "code",
   "execution_count": 90,
   "metadata": {},
   "outputs": [
    {
     "data": {
      "text/plain": [
       "{'text': {'annotations': [],\n",
       "  'value': \"The visuals above provide a side-by-side comparative analysis of Microsoft and Google's (Alphabet) revenue and net income growth over the past four quarters.\\n\\nObservations:\\n- Microsoft's revenue and net income have shown relatively consistent figures across the quarters with slight variations, while maintaining a strong profitability margin.\\n- Google's (Alphabet) revenue is larger than Microsoft's, and it also exhibits a more volatile yet overall increasing pattern in both revenue and net income, highlighting substantial growth and profitability, especially in the most recent quarters. \\n\\nThese trends speak to both companies' strong market positions and their ability to generate and grow profit effectively.\"},\n",
       " 'type': 'text'}"
      ]
     },
     "metadata": {},
     "output_type": "display_data"
    }
   ],
   "source": [
    "\n",
    "show_json(response2)"
   ]
  }
 ],
 "metadata": {
  "kernelspec": {
   "display_name": "devday_openai_12",
   "language": "python",
   "name": "python3"
  },
  "language_info": {
   "codemirror_mode": {
    "name": "ipython",
    "version": 3
   },
   "file_extension": ".py",
   "mimetype": "text/x-python",
   "name": "python",
   "nbconvert_exporter": "python",
   "pygments_lexer": "ipython3",
   "version": "3.12.0"
  }
 },
 "nbformat": 4,
 "nbformat_minor": 2
}
